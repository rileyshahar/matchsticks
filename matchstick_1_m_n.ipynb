{
 "cells": [
  {
   "cell_type": "code",
   "execution_count": 11,
   "metadata": {},
   "outputs": [],
   "source": [
    "import numpy as np\n",
    "\n",
    "def index_to_game(num,m):\n",
    "    # returns an int p (denoting number of vertical sticks) and a m-tuple (denoting number of horizontal sticks)\n",
    "    # CAUTION: p is not the index of the right-most vertical. Offset by 1, it counts the number of verticals.\n",
    "\n",
    "    # In the following, we assume such an order of games: First, we order by p. Within each \"p group\", we order as if they are numbers.\n",
    "\n",
    "    # first we find out the corresponding p group\n",
    "    p, total=m+1, 3**(m+1)-2**m\n",
    "\n",
    "    # special case on p=m+1: need to skip the calculations. CAUTION: game is indexed starting at 0.\n",
    "    if num + 1 + 2**m > total:\n",
    "        total-=2**m\n",
    "    else:\n",
    "        total-=2**m\n",
    "        p-=1\n",
    "        while num + 1 + (2**p)*(3**(m-p))<= total:\n",
    "            total-=(2**p)*(3**(m-p))\n",
    "            p-=1\n",
    "\n",
    "        total-=(2**p)*(3**(m-p))\n",
    "\n",
    "    # at this point, total < num\n",
    "    \n",
    "    # figure out the the m-tuple. \n",
    "    if p<m+1:\n",
    "        front_decimal=(num-total)//(3**(m-p))\n",
    "        back_decimal=(num-total)%(3**(m-p))\n",
    "    else:\n",
    "        front_decimal=(num-total)\n",
    "        back_decimal=0\n",
    "\n",
    "    front_binary=int(np.base_repr(front_decimal,base=2))\n",
    "    back_ternary=int(np.base_repr(back_decimal,base=3))\n",
    "\n",
    "    m_list=np.zeros(m,dtype=int)\n",
    "    for i in range(min(p,m)-1,-1,-1): #from p-1 to 0\n",
    "        m_list[i]=front_binary%10\n",
    "\n",
    "        if p==m+1 or i<min(p,m)-1: # not the special block right after right-most vertical\n",
    "            m_list[i]*=2\n",
    "        \n",
    "        front_binary=front_binary//10\n",
    "\n",
    "    for i in range(m-1,min(p,m)-1,-1): #from p-1 to 0\n",
    "        m_list[i]=back_ternary%10\n",
    "        \n",
    "        back_ternary=back_ternary//10\n",
    "    \n",
    "    return p,m_list\n",
    "\n",
    "def is_sub_game(G,H):\n",
    "    return (G[0]>=H[0] and (G[1]>=H[1]).all())\n",
    "\n",
    "def coef(G,H): \n",
    "    # G is a legal matchstick game on nx1, H is a sub game of G\n",
    "    # Counts the number of matchstick games on nx1x1, with bottom face G and top face H\n",
    "    G_list, H_list=G[1],H[1]\n",
    "    big_mark, top_mark=G_list.size,G_list.size\n",
    "\n",
    "    if H[0]<G[0]: # naked vertical, can't keep traveling top line\n",
    "        top_mark= H[0]-1\n",
    "\n",
    "    #CAUTION: here we're only accounting for horizontal lines\n",
    "    for i in range(G_list.size):\n",
    "        if G_list[i]>H_list[i]:\n",
    "            top_mark=min(i,top_mark)\n",
    "            if H_list[i]==0:\n",
    "                big_mark=i\n",
    "                break\n",
    "    \n",
    "    total=0\n",
    "\n",
    "    if big_mark <= H[0]-1 or H[0]==0: # count the empty blocks. Note that we can always exit at big mark, hence the +1. \n",
    "        total+= np.count_nonzero(H_list[:big_mark]==0)+2\n",
    "        if H[0]==0 and G[0]==0: # no naked vertical, can still travel top line\n",
    "            for i in range(0,top_mark+1):\n",
    "                if i==H_list.size:\n",
    "                    total+=1 # all the way to the end, one way down\n",
    "                elif H_list[i]<2: # a gap on top\n",
    "                    total+=np.count_nonzero(H_list[i:big_mark]==0)+1\n",
    "\n",
    "    else:\n",
    "        total+=np.count_nonzero(H_list[:H[0]-1]==0)+1 # before p, blocks\n",
    "        \n",
    "        for i in range(max(H[0]-1,0),top_mark+1):\n",
    "            if i==H_list.size:\n",
    "                total+=1 # all the way to the end, one way down\n",
    "            elif H_list[i]<2: # a gap on top\n",
    "                total+=np.count_nonzero(H_list[i:big_mark]==0)+1\n",
    "            \n",
    "    return total\n",
    "    "
   ]
  },
  {
   "cell_type": "code",
   "execution_count": 12,
   "metadata": {},
   "outputs": [],
   "source": [
    "def make_matrix(m):\n",
    "    # there are 3^(m+1)-2^m games on mx1x1\n",
    "\n",
    "    matrix = np.zeros((3**(m+1)-2**m, 3**(m+1)-2**m),dtype=int)\n",
    "    \n",
    "    for i in range(3**(m+1)-2**m): # iterating rows\n",
    "\n",
    "        for j in range(i+1): \n",
    "        # iterating each row. Note that due to our ordering, entries left to the diagonal (i,i) are 0s.\n",
    "\n",
    "            if is_sub_game(index_to_game(i,m),index_to_game(j,m)):\n",
    "                matrix[i][j]=coef(index_to_game(i,m),index_to_game(j,m))\n",
    "\n",
    "    return matrix\n",
    "\n",
    "# A potentially more efficient algorithm: instead of iterating over the entire row corresponding to game G, \n",
    "# we enumerate all subgames of G and just update the corresponding entries on that row. But that requires a good enumeration algorithm."
   ]
  },
  {
   "cell_type": "code",
   "execution_count": 13,
   "metadata": {},
   "outputs": [
    {
     "data": {
      "text/plain": [
       "array([[6, 0, 0, 0, 0, 0, 0],\n",
       "       [3, 4, 0, 0, 0, 0, 0],\n",
       "       [3, 3, 3, 0, 0, 0, 0],\n",
       "       [3, 0, 0, 4, 0, 0, 0],\n",
       "       [2, 2, 0, 2, 3, 0, 0],\n",
       "       [3, 0, 0, 3, 0, 3, 0],\n",
       "       [2, 2, 2, 2, 2, 2, 2]])"
      ]
     },
     "execution_count": 13,
     "metadata": {},
     "output_type": "execute_result"
    }
   ],
   "source": [
    "make_matrix(1)"
   ]
  },
  {
   "cell_type": "code",
   "execution_count": 15,
   "metadata": {},
   "outputs": [
    {
     "data": {
      "text/latex": [
       "$\\displaystyle \\frac{2^{n}}{2} + 3^{n} - 12 \\cdot 4^{n} + \\frac{35 \\cdot 6^{n}}{2}$"
      ],
      "text/plain": [
       "2**n/2 + 3**n - 12*4**n + 35*6**n/2"
      ]
     },
     "execution_count": 15,
     "metadata": {},
     "output_type": "execute_result"
    }
   ],
   "source": [
    "import sympy as sp\n",
    "from sympy.abc import i, k, m, n, x\n",
    "A=sp.Matrix(make_matrix(1).tolist())\n",
    "((A**n)*sp.Matrix(7*[1])).dot(sp.Matrix(7*[1]))"
   ]
  }
 ],
 "metadata": {
  "kernelspec": {
   "display_name": "base",
   "language": "python",
   "name": "python3"
  },
  "language_info": {
   "codemirror_mode": {
    "name": "ipython",
    "version": 3
   },
   "file_extension": ".py",
   "mimetype": "text/x-python",
   "name": "python",
   "nbconvert_exporter": "python",
   "pygments_lexer": "ipython3",
   "version": "3.11.5"
  }
 },
 "nbformat": 4,
 "nbformat_minor": 2
}
